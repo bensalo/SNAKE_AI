{
 "cells": [
  {
   "cell_type": "code",
   "execution_count": 1,
   "metadata": {},
   "outputs": [
    {
     "name": "stdout",
     "output_type": "stream",
     "text": [
      "pygame 2.1.2 (SDL 2.0.18, Python 3.9.12)\n",
      "Hello from the pygame community. https://www.pygame.org/contribute.html\n"
     ]
    }
   ],
   "source": [
    "import tensorflow as tf\n",
    "import snake_game\n",
    "import random"
   ]
  },
  {
   "cell_type": "code",
   "execution_count": 6,
   "metadata": {},
   "outputs": [],
   "source": [
    "env = snake_game.snake_env()\n",
    "states = 7\n",
    "actions = env.action_space"
   ]
  },
  {
   "cell_type": "code",
   "execution_count": 3,
   "metadata": {},
   "outputs": [],
   "source": [
    "def define_states(frame_size,snake_head,snake_tail,food,dir):\n",
    "    foodq1 = 0\n",
    "    foodq2 = 0\n",
    "    foodq3 = 0\n",
    "    foodq4 = 0\n",
    "    collisionfront = 0\n",
    "    collisionleft = 0\n",
    "    collisionright = 0\n",
    "\n",
    "    if dir == 'right':\n",
    "        if food[0] >= snake_head[0] and food[1] <= snake_head[1]:\n",
    "            foodq1 = 1\n",
    "        if food[0] <= snake_head[0] and food[1] <= snake_head[1]:\n",
    "            foodq2 = 1\n",
    "        if food[0] <= snake_head[0] and food[1] >= snake_head[1]:\n",
    "            foodq3 = 1\n",
    "        if food[0] >= snake_head[0] and food[1] >= snake_head[1]:\n",
    "            foodq4 = 1\n",
    "        if snake_head[0] + 1 > frame_size[0] or (snake_head[0] + 1, snake_head[1]) in snake_tail:\n",
    "            collisionfront = 1\n",
    "        if snake_head[1] - 1 < 0 or (snake_head[0], snake_head[1] - 1) in snake_tail:\n",
    "            collisionleft = 1\n",
    "        if snake_head[1] + 1 > frame_size[1] or (snake_head[0], snake_head[1] + 1) in snake_tail:\n",
    "            collisionright = 1\n",
    "    elif dir == 'left':\n",
    "        if food[0] <= snake_head[0] and food[1] >= snake_head[1]:\n",
    "            foodq1 = 1\n",
    "        if food[0] >= snake_head[0] and food[1] >= snake_head[1]:\n",
    "            foodq2 = 1\n",
    "        if food[0] >= snake_head[0] and food[1] <= snake_head[1]:\n",
    "            foodq3 = 1\n",
    "        if food[0] <= snake_head[0] and food[1] <= snake_head[1]:\n",
    "            foodq4 = 1\n",
    "        if snake_head[0] - 1 < 0 or (snake_head[0] - 1, snake_head[1]) in snake_tail:\n",
    "            collisionfront = 1\n",
    "        if snake_head[1] + 1 > frame_size[1] or (snake_head[0], snake_head[1] + 1) in snake_tail:\n",
    "            collisionleft = 1\n",
    "        if snake_head[1] - 1 < 0 or (snake_head[0], snake_head[1] - 1) in snake_tail:\n",
    "            collisionright = 1\n",
    "    elif dir == 'up':\n",
    "        if food[1] <= snake_head[1] and food[0] <= snake_head[0]:\n",
    "            foodq1 = 1\n",
    "        if food[1] <= snake_head[1] and food[0] >= snake_head[0]:\n",
    "            foodq2 = 1\n",
    "        if food[1] >= snake_head[1] and food[0] >= snake_head[0]:\n",
    "            foodq3 = 1\n",
    "        if food[1] >= snake_head[1] and food[0] <= snake_head[0]:\n",
    "            foodq4 = 1\n",
    "        if snake_head[1] - 1 < 0 or (snake_head[0], snake_head[1] - 1) in snake_tail:\n",
    "            collisionfront = 1\n",
    "        if snake_head[0] - 1 < 0 or (snake_head[0] - 1, snake_head[1]) in snake_tail:\n",
    "            collisionleft = 1\n",
    "        if snake_head[0] + 1 > frame_size[0] or (snake_head[0] + 1, snake_head[1]) in snake_tail:\n",
    "            collisionright = 1\n",
    "    elif dir == 'down':\n",
    "        if food[1] >= snake_head[1] and food[0] >= snake_head[0]:\n",
    "            foodq1 = 1\n",
    "        if food[1] >= snake_head[1] and food[0] <= snake_head[0]:\n",
    "            foodq2 = 1\n",
    "        if food[1] <= snake_head[1] and food[0] <= snake_head[0]:\n",
    "            foodq3 = 1\n",
    "        if food[1] <= snake_head[1] and food[0] >= snake_head[0]:\n",
    "            foodq4 = 1\n",
    "        if snake_head[1] + 1 > frame_size[1] or (snake_head[0], snake_head[1] + 1) in snake_tail:\n",
    "            collisionfront = 1\n",
    "        if snake_head[0] + 1 > frame_size[0] or (snake_head[0] + 1, snake_head[1]) in snake_tail:\n",
    "            collisionleft = 1\n",
    "        if snake_head[0] - 1 < 0 or (snake_head[0] - 1, snake_head[1]) in snake_tail:\n",
    "            collisionright = 1\n",
    "    \n",
    "    return [foodq1,foodq2,foodq3,foodq4,collisionfront,collisionleft,collisionright]"
   ]
  },
  {
   "cell_type": "code",
   "execution_count": 4,
   "metadata": {},
   "outputs": [],
   "source": [
    "def calc_reward(found_food, game_over, game_done, move_count):\n",
    "    reward = 0\n",
    "    reward -= move_count\n",
    "    if found_food:\n",
    "        reward += 20\n",
    "    if game_over:\n",
    "        reward -= 0\n",
    "    elif game_done:\n",
    "        reward += 0\n",
    "    return reward"
   ]
  },
  {
   "cell_type": "code",
   "execution_count": null,
   "metadata": {},
   "outputs": [],
   "source": [
    "# \"No Brain\" Agent\n",
    "episodes = 10\n",
    "for episode in range(1, episodes+1):\n",
    "    env.reset()\n",
    "    done = False\n",
    "    reward = 1\n",
    "\n",
    "\n",
    "    while not done:\n",
    "        n_state = env.get_state()\n",
    "        action = random.choice(actions)\n",
    "        found_food, game_over, game_done, score, move_count = env.play_step(action)\n",
    "        done = game_over or game_done\n",
    "        reward += calc_reward(found_food, game_over, game_done, 1)\n",
    "    print('Episode: {} Reward: {} Score: {} Move_count: {}'.format(episode, reward, score, move_count))"
   ]
  },
  {
   "cell_type": "code",
   "execution_count": 8,
   "metadata": {},
   "outputs": [],
   "source": [
    "import numpy\n",
    "from keras.models import Sequential\n",
    "from keras.layers import Dense, Flatten\n",
    "from keras.optimizers import Adam"
   ]
  },
  {
   "cell_type": "code",
   "execution_count": 9,
   "metadata": {},
   "outputs": [],
   "source": [
    "def build_model(states, actions):\n",
    "    model = Sequential()\n",
    "    model.add(Flatten(input_shape=(1,states)))\n",
    "    model.add(Dense(24, activation='relu'))\n",
    "    model.add(Dense(24, activation='relu'))\n",
    "    model.add(Dense(actions, activation='linear'))\n",
    "    return model"
   ]
  },
  {
   "cell_type": "code",
   "execution_count": 10,
   "metadata": {},
   "outputs": [
    {
     "name": "stdout",
     "output_type": "stream",
     "text": [
      "Model: \"sequential\"\n",
      "_________________________________________________________________\n",
      " Layer (type)                Output Shape              Param #   \n",
      "=================================================================\n",
      " flatten (Flatten)           (None, 7)                 0         \n",
      "                                                                 \n",
      " dense (Dense)               (None, 24)                192       \n",
      "                                                                 \n",
      " dense_1 (Dense)             (None, 24)                600       \n",
      "                                                                 \n",
      " dense_2 (Dense)             (None, 3)                 75        \n",
      "                                                                 \n",
      "=================================================================\n",
      "Total params: 867\n",
      "Trainable params: 867\n",
      "Non-trainable params: 0\n",
      "_________________________________________________________________\n"
     ]
    }
   ],
   "source": [
    "model = build_model(states,actions.__len__())\n",
    "model.summary()"
   ]
  },
  {
   "cell_type": "code",
   "execution_count": 11,
   "metadata": {},
   "outputs": [],
   "source": [
    "from rl.agents import DQNAgent\n",
    "from rl.policy import BoltzmannQPolicy\n",
    "from rl.memory import SequentialMemory"
   ]
  },
  {
   "cell_type": "code",
   "execution_count": 16,
   "metadata": {},
   "outputs": [],
   "source": [
    "def build_agent(model, actions):\n",
    "    policy = BoltzmannQPolicy()\n",
    "    memory = SequentialMemory(limit=50000, window_length=1)\n",
    "    dqn = DQNAgent(model=model, memory=memory, policy=policy, nb_actions=actions.__len__(), nb_steps_warmup=10, target_model_update=1e-2)\n",
    "    return dqn"
   ]
  },
  {
   "cell_type": "code",
   "execution_count": 17,
   "metadata": {},
   "outputs": [
    {
     "name": "stderr",
     "output_type": "stream",
     "text": [
      "c:\\Users\\User Ben\\.conda\\envs\\env39\\lib\\site-packages\\keras\\optimizers\\optimizer_v2\\adam.py:117: UserWarning: The `lr` argument is deprecated, use `learning_rate` instead.\n",
      "  super().__init__(name, **kwargs)\n"
     ]
    },
    {
     "ename": "AttributeError",
     "evalue": "'Sequential' object has no attribute '_compile_time_distribution_strategy'",
     "output_type": "error",
     "traceback": [
      "\u001b[1;31m---------------------------------------------------------------------------\u001b[0m",
      "\u001b[1;31mAttributeError\u001b[0m                            Traceback (most recent call last)",
      "\u001b[1;32mc:\\CODING\\PROJECTS\\SNAKE_AI\\src\\tf_reinforcement_learning.ipynb Zelle 11\u001b[0m in \u001b[0;36m<cell line: 2>\u001b[1;34m()\u001b[0m\n\u001b[0;32m      <a href='vscode-notebook-cell:/c%3A/CODING/PROJECTS/SNAKE_AI/src/tf_reinforcement_learning.ipynb#X14sZmlsZQ%3D%3D?line=0'>1</a>\u001b[0m dqn \u001b[39m=\u001b[39m build_agent(model, actions)\n\u001b[1;32m----> <a href='vscode-notebook-cell:/c%3A/CODING/PROJECTS/SNAKE_AI/src/tf_reinforcement_learning.ipynb#X14sZmlsZQ%3D%3D?line=1'>2</a>\u001b[0m dqn\u001b[39m.\u001b[39;49mcompile(Adam(lr\u001b[39m=\u001b[39;49m\u001b[39m1e-3\u001b[39;49m), metrics\u001b[39m=\u001b[39;49m[\u001b[39m'\u001b[39;49m\u001b[39mmae\u001b[39;49m\u001b[39m'\u001b[39;49m])\n\u001b[0;32m      <a href='vscode-notebook-cell:/c%3A/CODING/PROJECTS/SNAKE_AI/src/tf_reinforcement_learning.ipynb#X14sZmlsZQ%3D%3D?line=2'>3</a>\u001b[0m dqn\u001b[39m.\u001b[39mfit(env, nb_steps\u001b[39m=\u001b[39m\u001b[39m50000\u001b[39m, visualize\u001b[39m=\u001b[39m\u001b[39mFalse\u001b[39;00m, verbose\u001b[39m=\u001b[39m\u001b[39m1\u001b[39m)\n",
      "File \u001b[1;32mc:\\Users\\User Ben\\.conda\\envs\\env39\\lib\\site-packages\\rl\\agents\\dqn.py:167\u001b[0m, in \u001b[0;36mDQNAgent.compile\u001b[1;34m(self, optimizer, metrics)\u001b[0m\n\u001b[0;32m    164\u001b[0m metrics \u001b[39m+\u001b[39m\u001b[39m=\u001b[39m [mean_q]  \u001b[39m# register default metrics\u001b[39;00m\n\u001b[0;32m    166\u001b[0m \u001b[39m# We never train the target model, hence we can set the optimizer and loss arbitrarily.\u001b[39;00m\n\u001b[1;32m--> 167\u001b[0m \u001b[39mself\u001b[39m\u001b[39m.\u001b[39mtarget_model \u001b[39m=\u001b[39m clone_model(\u001b[39mself\u001b[39;49m\u001b[39m.\u001b[39;49mmodel, \u001b[39mself\u001b[39;49m\u001b[39m.\u001b[39;49mcustom_model_objects)\n\u001b[0;32m    168\u001b[0m \u001b[39mself\u001b[39m\u001b[39m.\u001b[39mtarget_model\u001b[39m.\u001b[39mcompile(optimizer\u001b[39m=\u001b[39m\u001b[39m'\u001b[39m\u001b[39msgd\u001b[39m\u001b[39m'\u001b[39m, loss\u001b[39m=\u001b[39m\u001b[39m'\u001b[39m\u001b[39mmse\u001b[39m\u001b[39m'\u001b[39m)\n\u001b[0;32m    169\u001b[0m \u001b[39mself\u001b[39m\u001b[39m.\u001b[39mmodel\u001b[39m.\u001b[39mcompile(optimizer\u001b[39m=\u001b[39m\u001b[39m'\u001b[39m\u001b[39msgd\u001b[39m\u001b[39m'\u001b[39m, loss\u001b[39m=\u001b[39m\u001b[39m'\u001b[39m\u001b[39mmse\u001b[39m\u001b[39m'\u001b[39m)\n",
      "File \u001b[1;32mc:\\Users\\User Ben\\.conda\\envs\\env39\\lib\\site-packages\\rl\\util.py:16\u001b[0m, in \u001b[0;36mclone_model\u001b[1;34m(model, custom_objects)\u001b[0m\n\u001b[0;32m     11\u001b[0m config \u001b[39m=\u001b[39m {\n\u001b[0;32m     12\u001b[0m     \u001b[39m'\u001b[39m\u001b[39mclass_name\u001b[39m\u001b[39m'\u001b[39m: model\u001b[39m.\u001b[39m\u001b[39m__class__\u001b[39m\u001b[39m.\u001b[39m\u001b[39m__name__\u001b[39m,\n\u001b[0;32m     13\u001b[0m     \u001b[39m'\u001b[39m\u001b[39mconfig\u001b[39m\u001b[39m'\u001b[39m: model\u001b[39m.\u001b[39mget_config(),\n\u001b[0;32m     14\u001b[0m }\n\u001b[0;32m     15\u001b[0m clone \u001b[39m=\u001b[39m model_from_config(config, custom_objects\u001b[39m=\u001b[39mcustom_objects)\n\u001b[1;32m---> 16\u001b[0m clone\u001b[39m.\u001b[39mset_weights(model\u001b[39m.\u001b[39;49mget_weights())\n\u001b[0;32m     17\u001b[0m \u001b[39mreturn\u001b[39;00m clone\n",
      "File \u001b[1;32mc:\\Users\\User Ben\\.conda\\envs\\env39\\lib\\site-packages\\keras\\engine\\training_v1.py:160\u001b[0m, in \u001b[0;36mModel.get_weights\u001b[1;34m(self)\u001b[0m\n\u001b[0;32m    152\u001b[0m \u001b[39mdef\u001b[39;00m \u001b[39mget_weights\u001b[39m(\u001b[39mself\u001b[39m):\n\u001b[0;32m    153\u001b[0m     \u001b[39m\"\"\"Retrieves the weights of the model.\u001b[39;00m\n\u001b[0;32m    154\u001b[0m \n\u001b[0;32m    155\u001b[0m \u001b[39m    Returns:\u001b[39;00m\n\u001b[0;32m    156\u001b[0m \u001b[39m        A flat list of Numpy arrays.\u001b[39;00m\n\u001b[0;32m    157\u001b[0m \u001b[39m    \"\"\"\u001b[39;00m\n\u001b[0;32m    158\u001b[0m     strategy \u001b[39m=\u001b[39m (\n\u001b[0;32m    159\u001b[0m         \u001b[39mself\u001b[39m\u001b[39m.\u001b[39m_distribution_strategy\n\u001b[1;32m--> 160\u001b[0m         \u001b[39mor\u001b[39;00m \u001b[39mself\u001b[39;49m\u001b[39m.\u001b[39;49m_compile_time_distribution_strategy\n\u001b[0;32m    161\u001b[0m     )\n\u001b[0;32m    162\u001b[0m     \u001b[39mif\u001b[39;00m strategy:\n\u001b[0;32m    163\u001b[0m         \u001b[39mwith\u001b[39;00m strategy\u001b[39m.\u001b[39mscope():\n",
      "\u001b[1;31mAttributeError\u001b[0m: 'Sequential' object has no attribute '_compile_time_distribution_strategy'"
     ]
    }
   ],
   "source": [
    "dqn = build_agent(model, actions)\n",
    "dqn.compile(Adam(lr=1e-3), metrics=['mae'])\n",
    "dqn.fit(env, nb_steps=50000, visualize=False, verbose=1)"
   ]
  }
 ],
 "metadata": {
  "kernelspec": {
   "display_name": "env39",
   "language": "python",
   "name": "python3"
  },
  "language_info": {
   "codemirror_mode": {
    "name": "ipython",
    "version": 3
   },
   "file_extension": ".py",
   "mimetype": "text/x-python",
   "name": "python",
   "nbconvert_exporter": "python",
   "pygments_lexer": "ipython3",
   "version": "3.9.12 (main, Apr  4 2022, 05:22:27) [MSC v.1916 64 bit (AMD64)]"
  },
  "orig_nbformat": 4,
  "vscode": {
   "interpreter": {
    "hash": "1068732384937d4d725a5a525b8eed023a8a42441da3cb2a20806b8c19380865"
   }
  }
 },
 "nbformat": 4,
 "nbformat_minor": 2
}
